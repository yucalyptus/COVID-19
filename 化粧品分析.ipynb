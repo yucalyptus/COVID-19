{
  "nbformat": 4,
  "nbformat_minor": 0,
  "metadata": {
    "colab": {
      "provenance": [],
      "include_colab_link": true
    },
    "kernelspec": {
      "name": "python3",
      "display_name": "Python 3"
    },
    "language_info": {
      "name": "python"
    }
  },
  "cells": [
    {
      "cell_type": "markdown",
      "metadata": {
        "id": "view-in-github",
        "colab_type": "text"
      },
      "source": [
        "<a href=\"https://colab.research.google.com/github/yucalyptus/COVID-19/blob/master/%E5%8C%96%E7%B2%A7%E5%93%81%E5%88%86%E6%9E%90.ipynb\" target=\"_parent\"><img src=\"https://colab.research.google.com/assets/colab-badge.svg\" alt=\"Open In Colab\"/></a>"
      ]
    },
    {
      "cell_type": "code",
      "execution_count": null,
      "metadata": {
        "id": "kWjxoDipivbs"
      },
      "outputs": [],
      "source": [
        "import pandas as pd\n",
        "import os\n",
        "import re"
      ]
    },
    {
      "cell_type": "code",
      "source": [
        "# Google Driveをマウント\n",
        "from google.colab import drive\n",
        "drive.mount('/content/drive')\n"
      ],
      "metadata": {
        "colab": {
          "base_uri": "https://localhost:8080/"
        },
        "id": "xQlDFxhFjaCB",
        "outputId": "5d871d8f-ca7a-4d2f-f84a-ee0900ec66e0"
      },
      "execution_count": null,
      "outputs": [
        {
          "output_type": "stream",
          "name": "stdout",
          "text": [
            "Drive already mounted at /content/drive; to attempt to forcibly remount, call drive.mount(\"/content/drive\", force_remount=True).\n"
          ]
        }
      ]
    },
    {
      "cell_type": "code",
      "source": [
        "\n",
        "# CSVファイルの読み込み\n",
        "file_path = '/content/drive/MyDrive/売り上げ分析/化粧品/元データ/科目別売上_202406-202406.csv'\n",
        "df = pd.read_csv(file_path, encoding='utf-8')"
      ],
      "metadata": {
        "id": "KFpTg9rEzvUe"
      },
      "execution_count": null,
      "outputs": []
    },
    {
      "cell_type": "code",
      "source": [
        "\n",
        "# 「管理名称」と11列目、12列目のみを残して、他の列を削除\n",
        "filtered_data = df[['管理名称', df.columns[10], df.columns[11]]]\n",
        "\n",
        "# 抽出する項目リスト\n",
        "include_headers = [\n",
        "    'ジェントルクレンザー', 'ハイドレーティングクレンザー', 'バランシングクレンジングエマルジョン', 'エクスフォリエーティングクレンザー', 'ポリッシュ',\n",
        "    'バランサートナー', 'ミラミン', 'ミラミックス', 'デイリーPD', 'RNクリーム', 'シーセラム', 'スキンブライセラム0.25',\n",
        "    'スキンブライセラム0.5', 'ファーミングセラムAC', 'シスペラ', 'バランシングフェイシャルトナー', 'Ｃ+コレクティングコンプレックス30％',\n",
        "    'DEJナイトフェイスクリーム', 'DEJフェイスクリーム', 'リボックススキンスムージングセラム20ml', 'ユースフルリップ', 'DEJブースティングセラム',\n",
        "    'インナーモイストTAローション\\u3000180ml', 'インナーモイストTAローション\\u3000300ml', 'インナーモイストTAローション\\u300030ml',\n",
        "    'エクラリバイブ', 'HQクリア', 'デュアルレチノエクストラライト', 'デュアルレチノライト', 'デュアルレチノプラス',\n",
        "    'フェイスフルイド', 'ナリシングクリーム', 'ナリシングクリーム施術と同時購入', 'フェイスフルイド+ナリシングクリームセット購入',\n",
        "    'スピーディークレンジングジェル130ｇ', 'スピーディークレンジングジェル200ｇ', 'ホイップウォッシュ',\n",
        "    'UVシルキープロテクション50ｇ', 'MLAクリアエッセンストナー', 'UVシルキープロテクション50g', 'バランスリペア セラム',\n",
        "    'アドバンスド ローション', 'アドバンスド エマルジョン', 'TPNaローション', 'ナノHQクリームEX', 'TAホワイトセラム',\n",
        "    'クレンジングソープ泡(院内用)', '(スキンモイストW)', 'トップアスリート', 'UVミルク',\n",
        "    'Sセット(サンプロテクト26ｇ+クレンジングオイル80ｍｌ)', 'コラージュリペアUVクリーム', '(ビューティフルスキン)ノンUVミルク','ピュレアジーファミングマスク','マトリコールパック','AZAクリア'\n",
        "]\n",
        "\n",
        "# ステップ4: 「管理名称」がNaNでないことを確認し、文字列に変換してから部分一致を確認\n",
        "filtered_data['管理名称'] = filtered_data['管理名称'].astype(str)  # 管理名称を文字列に変換\n",
        "filtered_data = filtered_data[filtered_data['管理名称'].apply(lambda x: any(item in x for item in include_headers))]\n",
        "\n",
        "# 結果を表示\n",
        "print(filtered_data.head())\n"
      ],
      "metadata": {
        "colab": {
          "base_uri": "https://localhost:8080/"
        },
        "id": "D08aH0IzzY5l",
        "outputId": "6a930c88-53ee-442c-dec9-6bf5aa28e67d"
      },
      "execution_count": null,
      "outputs": [
        {
          "output_type": "stream",
          "name": "stdout",
          "text": [
            "                管理名称  2024/06 2024/06.1\n",
            "2     ハイドレーティングクレンザー    5,544         1\n",
            "3  エクスフォリエーティングクレンザー   41,580         7\n",
            "4              ポリッシュ   51,414         6\n",
            "5           バランサートナー   34,496         6\n",
            "6             デイリーPD  111,078         7\n"
          ]
        },
        {
          "output_type": "stream",
          "name": "stderr",
          "text": [
            "<ipython-input-30-6a3ffa9802a3>:21: SettingWithCopyWarning: \n",
            "A value is trying to be set on a copy of a slice from a DataFrame.\n",
            "Try using .loc[row_indexer,col_indexer] = value instead\n",
            "\n",
            "See the caveats in the documentation: https://pandas.pydata.org/pandas-docs/stable/user_guide/indexing.html#returning-a-view-versus-a-copy\n",
            "  filtered_data['管理名称'] = filtered_data['管理名称'].astype(str)  # 管理名称を文字列に変換\n"
          ]
        }
      ]
    },
    {
      "cell_type": "markdown",
      "source": [],
      "metadata": {
        "id": "ZfsNu0ji15l4"
      }
    },
    {
      "cell_type": "markdown",
      "source": [
        "Google　ドライブから指定のファイルのパスをコピーして貼り付け"
      ],
      "metadata": {
        "id": "y55myf1Qj61C"
      }
    },
    {
      "cell_type": "code",
      "source": [
        "\n",
        "# ステップ6: 結果をCSVファイルとして保存\n",
        "output_directory = '/content/drive/MyDrive/売り上げ分析/化粧品'\n",
        "if not os.path.exists(output_directory):\n",
        "    os.makedirs(output_directory)\n",
        "\n"
      ],
      "metadata": {
        "id": "YXFd5yV4jgji"
      },
      "execution_count": null,
      "outputs": []
    },
    {
      "cell_type": "code",
      "source": [],
      "metadata": {
        "id": "GmzUCWjSzXYz"
      },
      "execution_count": null,
      "outputs": []
    },
    {
      "cell_type": "markdown",
      "source": [
        "最後を指定の月に変更（フォルダ名）"
      ],
      "metadata": {
        "id": "Y0selxnZkfMl"
      }
    },
    {
      "cell_type": "code",
      "source": [
        "\n",
        "output_file_path = os.path.join(output_directory, '化粧品2024-06月.csv')\n",
        "filtered_data.to_csv(output_file_path, index=False, encoding='utf-8-sig')\n",
        "\n",
        "print(f\"Filtered data has been saved to: {output_file_path}\")\n"
      ],
      "metadata": {
        "id": "93z7CBF1lr73",
        "colab": {
          "base_uri": "https://localhost:8080/"
        },
        "outputId": "2a723434-a5d5-4b19-ef58-1b3d3b5c90c8"
      },
      "execution_count": null,
      "outputs": [
        {
          "output_type": "stream",
          "name": "stdout",
          "text": [
            "Filtered data has been saved to: /content/drive/MyDrive/売り上げ分析/化粧品/化粧品2024-06月.csv\n"
          ]
        }
      ]
    },
    {
      "cell_type": "markdown",
      "source": [],
      "metadata": {
        "id": "6IS2sTjJkaeT"
      }
    },
    {
      "cell_type": "markdown",
      "source": [],
      "metadata": {
        "id": "4NTDQzydlxaS"
      }
    }
  ]
}